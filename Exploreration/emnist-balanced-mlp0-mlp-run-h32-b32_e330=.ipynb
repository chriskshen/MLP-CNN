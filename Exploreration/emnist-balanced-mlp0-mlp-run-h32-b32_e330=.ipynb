{
 "cells": [
  {
   "cell_type": "code",
   "execution_count": 1,
   "metadata": {
    "_cell_guid": "b1076dfc-b9ad-4769-8c92-a6c4dae69d19",
    "_uuid": "8f2839f25d086af736a60e9eeb907d3b93b6e0e5",
    "execution": {
     "iopub.execute_input": "2024-11-24T12:48:12.936814Z",
     "iopub.status.busy": "2024-11-24T12:48:12.936497Z",
     "iopub.status.idle": "2024-11-24T12:48:13.919219Z",
     "shell.execute_reply": "2024-11-24T12:48:13.918354Z",
     "shell.execute_reply.started": "2024-11-24T12:48:12.936788Z"
    },
    "trusted": true
   },
   "outputs": [
    {
     "name": "stdout",
     "output_type": "stream",
     "text": [
      "/kaggle/input/emnist/emnist-letters-mapping.txt\n",
      "/kaggle/input/emnist/emnist-letters-test.csv\n",
      "/kaggle/input/emnist/emnist-mnist-mapping.txt\n",
      "/kaggle/input/emnist/emnist-digits-train.csv\n",
      "/kaggle/input/emnist/emnist-bymerge-mapping.txt\n",
      "/kaggle/input/emnist/emnist-balanced-train.csv\n",
      "/kaggle/input/emnist/emnist-digits-test.csv\n",
      "/kaggle/input/emnist/emnist-balanced-test.csv\n",
      "/kaggle/input/emnist/emnist-mnist-test.csv\n",
      "/kaggle/input/emnist/emnist-letters-train.csv\n",
      "/kaggle/input/emnist/emnist-byclass-train.csv\n",
      "/kaggle/input/emnist/emnist-bymerge-test.csv\n",
      "/kaggle/input/emnist/emnist-balanced-mapping.txt\n",
      "/kaggle/input/emnist/emnist-mnist-train.csv\n",
      "/kaggle/input/emnist/emnist-digits-mapping.txt\n",
      "/kaggle/input/emnist/emnist-bymerge-train.csv\n",
      "/kaggle/input/emnist/emnist-byclass-test.csv\n",
      "/kaggle/input/emnist/emnist-byclass-mapping.txt\n",
      "/kaggle/input/emnist/emnist_source_files/emnist-digits-test-labels-idx1-ubyte\n",
      "/kaggle/input/emnist/emnist_source_files/emnist-bymerge-train-labels-idx1-ubyte\n",
      "/kaggle/input/emnist/emnist_source_files/emnist-letters-test-labels-idx1-ubyte\n",
      "/kaggle/input/emnist/emnist_source_files/emnist-byclass-train-images-idx3-ubyte\n",
      "/kaggle/input/emnist/emnist_source_files/emnist-byclass-test-images-idx3-ubyte\n",
      "/kaggle/input/emnist/emnist_source_files/emnist-mnist-train-images-idx3-ubyte\n",
      "/kaggle/input/emnist/emnist_source_files/emnist-digits-train-labels-idx1-ubyte\n",
      "/kaggle/input/emnist/emnist_source_files/emnist-bymerge-test-images-idx3-ubyte\n",
      "/kaggle/input/emnist/emnist_source_files/emnist-bymerge-test-labels-idx1-ubyte\n",
      "/kaggle/input/emnist/emnist_source_files/emnist-mnist-test-labels-idx1-ubyte\n",
      "/kaggle/input/emnist/emnist_source_files/emnist-balanced-test-labels-idx1-ubyte\n",
      "/kaggle/input/emnist/emnist_source_files/emnist-balanced-test-images-idx3-ubyte\n",
      "/kaggle/input/emnist/emnist_source_files/emnist-mnist-test-images-idx3-ubyte\n",
      "/kaggle/input/emnist/emnist_source_files/emnist-bymerge-train-images-idx3-ubyte\n",
      "/kaggle/input/emnist/emnist_source_files/emnist-letters-train-labels-idx1-ubyte\n",
      "/kaggle/input/emnist/emnist_source_files/emnist-digits-train-images-idx3-ubyte\n",
      "/kaggle/input/emnist/emnist_source_files/emnist-byclass-train-labels-idx1-ubyte\n",
      "/kaggle/input/emnist/emnist_source_files/emnist-balanced-train-images-idx3-ubyte\n",
      "/kaggle/input/emnist/emnist_source_files/emnist-balanced-train-labels-idx1-ubyte\n",
      "/kaggle/input/emnist/emnist_source_files/emnist-letters-test-images-idx3-ubyte\n",
      "/kaggle/input/emnist/emnist_source_files/emnist-byclass-test-labels-idx1-ubyte\n",
      "/kaggle/input/emnist/emnist_source_files/emnist-letters-train-images-idx3-ubyte\n",
      "/kaggle/input/emnist/emnist_source_files/emnist-mnist-train-labels-idx1-ubyte\n",
      "/kaggle/input/emnist/emnist_source_files/emnist-digits-test-images-idx3-ubyte\n"
     ]
    }
   ],
   "source": [
    "# This Python 3 environment comes with many helpful analytics libraries installed\n",
    "# It is defined by the kaggle/python Docker image: https://github.com/kaggle/docker-python\n",
    "# For example, here's several helpful packages to load\n",
    "\n",
    "import numpy as np # linear algebra\n",
    "import pandas as pd # data processing, CSV file I/O (e.g. pd.read_csv)\n",
    "\n",
    "# Input data files are available in the read-only \"../input/\" directory\n",
    "# For example, running this (by clicking run or pressing Shift+Enter) will list all files under the input directory\n",
    "\n",
    "import os\n",
    "for dirname, _, filenames in os.walk('/kaggle/input'):\n",
    "    for filename in filenames:\n",
    "        print(os.path.join(dirname, filename))\n",
    "\n",
    "# You can write up to 20GB to the current directory (/kaggle/working/) that gets preserved as output when you create a version using \"Save & Run All\" \n",
    "# You can also write temporary files to /kaggle/temp/, but they won't be saved outside of the current session"
   ]
  },
  {
   "cell_type": "code",
   "execution_count": 2,
   "metadata": {
    "execution": {
     "iopub.execute_input": "2024-11-24T12:48:13.920788Z",
     "iopub.status.busy": "2024-11-24T12:48:13.920474Z",
     "iopub.status.idle": "2024-11-24T12:48:26.519041Z",
     "shell.execute_reply": "2024-11-24T12:48:26.518365Z",
     "shell.execute_reply.started": "2024-11-24T12:48:13.920766Z"
    },
    "trusted": true
   },
   "outputs": [
    {
     "name": "stderr",
     "output_type": "stream",
     "text": [
      "2024-11-24 12:48:15.864612: E external/local_xla/xla/stream_executor/cuda/cuda_dnn.cc:9261] Unable to register cuDNN factory: Attempting to register factory for plugin cuDNN when one has already been registered\n",
      "2024-11-24 12:48:15.864786: E external/local_xla/xla/stream_executor/cuda/cuda_fft.cc:607] Unable to register cuFFT factory: Attempting to register factory for plugin cuFFT when one has already been registered\n",
      "2024-11-24 12:48:16.017376: E external/local_xla/xla/stream_executor/cuda/cuda_blas.cc:1515] Unable to register cuBLAS factory: Attempting to register factory for plugin cuBLAS when one has already been registered\n"
     ]
    }
   ],
   "source": [
    "# Import libraries\n",
    "import numpy as np # linear algebra\n",
    "import pandas as pd\n",
    "import tensorflow as tf\n",
    "from tensorflow import keras\n",
    "from tensorflow.keras import layers\n",
    "from tensorflow.keras.models import Model, Sequential\n",
    "from tensorflow.keras.layers import Input, Conv2D, BatchNormalization, ReLU, Add, MaxPooling2D, Flatten, Dense, Dropout, GlobalAveragePooling2D\n",
    "from tensorflow.keras import utils\n",
    "from tensorflow.keras.utils import to_categorical\n",
    "from tensorflow.keras import callbacks\n",
    "import tensorflow as tf\n",
    "from tensorflow.keras import layers, regularizers\n",
    "import matplotlib.pyplot as plt\n",
    "from sklearn.model_selection import train_test_split\n",
    "from tensorflow.keras.callbacks import EarlyStopping, ReduceLROnPlateau, ModelCheckpoint\n",
    "from tensorflow.keras.optimizers import Adam\n",
    "from tensorflow.keras.callbacks import Callback\n",
    "import time\n"
   ]
  },
  {
   "cell_type": "code",
   "execution_count": 3,
   "metadata": {
    "execution": {
     "iopub.execute_input": "2024-11-24T12:48:26.520491Z",
     "iopub.status.busy": "2024-11-24T12:48:26.520029Z",
     "iopub.status.idle": "2024-11-24T12:48:36.372186Z",
     "shell.execute_reply": "2024-11-24T12:48:36.371373Z",
     "shell.execute_reply.started": "2024-11-24T12:48:26.520469Z"
    },
    "trusted": true
   },
   "outputs": [],
   "source": [
    "# Load the balanced training dataset\n",
    "balanced_train = pd.read_csv(\"../input/emnist/emnist-balanced-train.csv\")\n",
    "# Load the balanced testing dataset\n",
    "balanced_test = pd.read_csv(\"../input/emnist/emnist-balanced-test.csv\")\n",
    "# Load the mapping\n",
    "mapp = pd.read_csv(\"../input/emnist/emnist-balanced-mapping.txt\", delimiter=' ', index_col=0, header=None)"
   ]
  },
  {
   "cell_type": "code",
   "execution_count": 4,
   "metadata": {
    "execution": {
     "iopub.execute_input": "2024-11-24T12:48:36.374368Z",
     "iopub.status.busy": "2024-11-24T12:48:36.374100Z",
     "iopub.status.idle": "2024-11-24T12:48:36.380326Z",
     "shell.execute_reply": "2024-11-24T12:48:36.378364Z",
     "shell.execute_reply.started": "2024-11-24T12:48:36.374347Z"
    },
    "trusted": true
   },
   "outputs": [
    {
     "name": "stdout",
     "output_type": "stream",
     "text": [
      "\n",
      "Train: (112799, 785)\n",
      "Test:  (18799, 785)\n",
      "Map:   (47, 1)\n",
      "\n"
     ]
    }
   ],
   "source": [
    "#printing shapes \n",
    "print(f\"\"\"\n",
    "Train: {balanced_train.shape}\n",
    "Test:  {balanced_test.shape}\n",
    "Map:   {mapp.shape}\n",
    "\"\"\")"
   ]
  },
  {
   "cell_type": "code",
   "execution_count": 5,
   "metadata": {
    "execution": {
     "iopub.execute_input": "2024-11-24T12:48:36.381800Z",
     "iopub.status.busy": "2024-11-24T12:48:36.381528Z",
     "iopub.status.idle": "2024-11-24T12:48:36.450813Z",
     "shell.execute_reply": "2024-11-24T12:48:36.449969Z",
     "shell.execute_reply.started": "2024-11-24T12:48:36.381775Z"
    },
    "trusted": true
   },
   "outputs": [
    {
     "data": {
      "text/plain": [
       "{0: '0',\n",
       " 1: '1',\n",
       " 2: '2',\n",
       " 3: '3',\n",
       " 4: '4',\n",
       " 5: '5',\n",
       " 6: '6',\n",
       " 7: '7',\n",
       " 8: '8',\n",
       " 9: '9',\n",
       " 10: 'A',\n",
       " 11: 'B',\n",
       " 12: 'C',\n",
       " 13: 'D',\n",
       " 14: 'E',\n",
       " 15: 'F',\n",
       " 16: 'G',\n",
       " 17: 'H',\n",
       " 18: 'I',\n",
       " 19: 'J',\n",
       " 20: 'K',\n",
       " 21: 'L',\n",
       " 22: 'M',\n",
       " 23: 'N',\n",
       " 24: 'O',\n",
       " 25: 'P',\n",
       " 26: 'Q',\n",
       " 27: 'R',\n",
       " 28: 'S',\n",
       " 29: 'T',\n",
       " 30: 'U',\n",
       " 31: 'V',\n",
       " 32: 'W',\n",
       " 33: 'X',\n",
       " 34: 'Y',\n",
       " 35: 'Z',\n",
       " 36: 'a',\n",
       " 37: 'b',\n",
       " 38: 'd',\n",
       " 39: 'e',\n",
       " 40: 'f',\n",
       " 41: 'g',\n",
       " 42: 'h',\n",
       " 43: 'n',\n",
       " 44: 'q',\n",
       " 45: 'r',\n",
       " 46: 't'}"
      ]
     },
     "execution_count": 5,
     "metadata": {},
     "output_type": "execute_result"
    }
   ],
   "source": [
    "# Create keys as integers from 0 to the length of the mapping values\n",
    "keys = range(len(mapp[1].values)) \n",
    "\n",
    "# Convert the integer values to corresponding characters using ASCII\n",
    "values = [chr(v) for v in mapp[1].values]\n",
    "\n",
    "# Create a dictionary mapping integers to characters\n",
    "map_dict = dict(zip(keys, values))\n",
    "map_dict"
   ]
  },
  {
   "cell_type": "code",
   "execution_count": 6,
   "metadata": {
    "execution": {
     "iopub.execute_input": "2024-11-24T12:48:36.452203Z",
     "iopub.status.busy": "2024-11-24T12:48:36.451912Z",
     "iopub.status.idle": "2024-11-24T12:48:36.743236Z",
     "shell.execute_reply": "2024-11-24T12:48:36.742357Z",
     "shell.execute_reply.started": "2024-11-24T12:48:36.452178Z"
    },
    "trusted": true
   },
   "outputs": [
    {
     "name": "stdout",
     "output_type": "stream",
     "text": [
      "x_train: (112799, 784)\n",
      "y_train: (112799,)\n",
      "x_test: (18799, 784)\n",
      "y_test: (18799,)\n"
     ]
    }
   ],
   "source": [
    "#splliting target coloumn and features from train and test dataset\n",
    "#training\n",
    "X_train = np.array(balanced_train.iloc[:,1:].values)\n",
    "y_train = np.array(balanced_train.iloc[:,0].values)\n",
    "\n",
    "#testing\n",
    "X_test = np.array(balanced_test.iloc[:,1:].values)\n",
    "y_test = np.array(balanced_test.iloc[:,0].values)\n",
    "\n",
    "print(f\"x_train: {X_train.shape}\")\n",
    "print(f\"y_train: {y_train.shape}\")\n",
    "print(f\"x_test: {X_test.shape}\")\n",
    "print(f\"y_test: {y_test.shape}\")"
   ]
  },
  {
   "cell_type": "code",
   "execution_count": 7,
   "metadata": {
    "execution": {
     "iopub.execute_input": "2024-11-24T12:48:36.744857Z",
     "iopub.status.busy": "2024-11-24T12:48:36.744511Z",
     "iopub.status.idle": "2024-11-24T12:48:36.752232Z",
     "shell.execute_reply": "2024-11-24T12:48:36.751295Z",
     "shell.execute_reply.started": "2024-11-24T12:48:36.744829Z"
    },
    "trusted": true
   },
   "outputs": [
    {
     "name": "stdout",
     "output_type": "stream",
     "text": [
      "number of classes  : 47\n"
     ]
    }
   ],
   "source": [
    "#displaying the no of classes\n",
    "column_name = '45'\n",
    "if column_name in balanced_train.columns:\n",
    "    classes = len(balanced_train[column_name].unique())\n",
    "    print(f\"number of classes  : {classes}\") \n",
    "else:\n",
    "    print(f\"Column '{column_name}' not found in the DataFrame.\")"
   ]
  },
  {
   "cell_type": "code",
   "execution_count": 8,
   "metadata": {
    "execution": {
     "iopub.execute_input": "2024-11-24T12:48:36.753471Z",
     "iopub.status.busy": "2024-11-24T12:48:36.753220Z",
     "iopub.status.idle": "2024-11-24T12:48:36.765079Z",
     "shell.execute_reply": "2024-11-24T12:48:36.764251Z",
     "shell.execute_reply.started": "2024-11-24T12:48:36.753445Z"
    },
    "trusted": true
   },
   "outputs": [
    {
     "name": "stdout",
     "output_type": "stream",
     "text": [
      "number of classes :  47\n"
     ]
    }
   ],
   "source": [
    "#storing no of classes in classes variable for input size for output layers\n",
    "classes = len(balanced_train['45'].unique()) \n",
    "print('number of classes : ', classes) "
   ]
  },
  {
   "cell_type": "code",
   "execution_count": 9,
   "metadata": {
    "execution": {
     "iopub.execute_input": "2024-11-24T12:48:36.766168Z",
     "iopub.status.busy": "2024-11-24T12:48:36.765971Z",
     "iopub.status.idle": "2024-11-24T12:48:36.776122Z",
     "shell.execute_reply": "2024-11-24T12:48:36.775304Z",
     "shell.execute_reply.started": "2024-11-24T12:48:36.766152Z"
    },
    "trusted": true
   },
   "outputs": [],
   "source": [
    "def rotate_emnist(x_data):\n",
    "    \n",
    "    x_data = x_data.reshape(x_data.shape[0], 28, 28)\n",
    "    x_data = np.transpose(x_data,(0,2,1))\n",
    "    \n",
    "    return(x_data)\n",
    "\n",
    "X_train = rotate_emnist(X_train)\n",
    "X_test = rotate_emnist(X_test)"
   ]
  },
  {
   "cell_type": "code",
   "execution_count": 10,
   "metadata": {
    "execution": {
     "iopub.execute_input": "2024-11-24T12:48:36.779061Z",
     "iopub.status.busy": "2024-11-24T12:48:36.778831Z",
     "iopub.status.idle": "2024-11-24T12:48:36.991870Z",
     "shell.execute_reply": "2024-11-24T12:48:36.991178Z",
     "shell.execute_reply.started": "2024-11-24T12:48:36.779043Z"
    },
    "trusted": true
   },
   "outputs": [],
   "source": [
    "# Normalise and reshape data\n",
    "X_train = X_train.astype('float32')  / 255.0\n",
    "X_test = X_test.astype('float32')  / 255.0"
   ]
  },
  {
   "cell_type": "code",
   "execution_count": 11,
   "metadata": {
    "execution": {
     "iopub.execute_input": "2024-11-24T12:48:36.993033Z",
     "iopub.status.busy": "2024-11-24T12:48:36.992789Z",
     "iopub.status.idle": "2024-11-24T12:48:37.008214Z",
     "shell.execute_reply": "2024-11-24T12:48:37.007368Z",
     "shell.execute_reply.started": "2024-11-24T12:48:36.993014Z"
    },
    "trusted": true
   },
   "outputs": [
    {
     "name": "stdout",
     "output_type": "stream",
     "text": [
      "x_train: (112799, 28, 28)\n",
      "y_train: (112799, 47)\n",
      "x_test: (18799, 28, 28)\n",
      "y_test: (18799, 47)\n"
     ]
    }
   ],
   "source": [
    "# One hot encoding\n",
    "y_train = to_categorical(y_train, classes)\n",
    "y_test = to_categorical(y_test, classes)\n",
    "print(f\"x_train: {X_train.shape}\")\n",
    "print(f\"y_train: {y_train.shape}\")\n",
    "print(f\"x_test: {X_test.shape}\")\n",
    "print(f\"y_test: {y_test.shape}\")"
   ]
  },
  {
   "cell_type": "markdown",
   "metadata": {},
   "source": [
    "# Create the MLP+MLP Model"
   ]
  },
  {
   "cell_type": "code",
   "execution_count": 12,
   "metadata": {
    "execution": {
     "iopub.execute_input": "2024-11-24T12:48:37.009649Z",
     "iopub.status.busy": "2024-11-24T12:48:37.009384Z",
     "iopub.status.idle": "2024-11-24T12:48:37.290082Z",
     "shell.execute_reply": "2024-11-24T12:48:37.289202Z",
     "shell.execute_reply.started": "2024-11-24T12:48:37.009630Z"
    },
    "trusted": true
   },
   "outputs": [
    {
     "name": "stdout",
     "output_type": "stream",
     "text": [
      "x_train :  (112799, 784)\n",
      "y_train :  (112799, 47)\n",
      "x_test  :  (18799, 784)\n",
      "y_test  :  (18799, 47)\n"
     ]
    }
   ],
   "source": [
    "# Flatten the images from 28x28 dimensions and normalize them\n",
    "X_train = X_train.reshape((X_train.shape[0], 28 * 28))\n",
    "X_test = X_test.reshape((X_test.shape[0], 28 * 28))\n",
    "\n",
    "print(\"x_train : \",X_train.shape)\n",
    "print(\"y_train : \",y_train.shape)\n",
    "print(\"x_test  : \",X_test.shape)\n",
    "print(\"y_test  : \",y_test.shape)"
   ]
  },
  {
   "cell_type": "code",
   "execution_count": null,
   "metadata": {
    "execution": {
     "iopub.execute_input": "2024-11-24T12:48:37.291692Z",
     "iopub.status.busy": "2024-11-24T12:48:37.291354Z",
     "iopub.status.idle": "2024-11-24T12:48:38.197215Z",
     "shell.execute_reply": "2024-11-24T12:48:38.196270Z",
     "shell.execute_reply.started": "2024-11-24T12:48:37.291664Z"
    },
    "trusted": true
   },
   "outputs": [],
   "source": [
    "# Define the model\n",
    "model0 = Sequential()\n",
    "\n",
    "# Input layer\n",
    "# Define the input layer with the shape corresponding to flattened 28x28 images\n",
    "model0.add(tf.keras.layers.Input(shape=(28 * 28,)))\n",
    "\n",
    "# Add the hidden layer with 32 units and ReLU activation function\n",
    "model0.add(tf.keras.layers.Dense(32, activation='relu'))\n",
    "\n",
    "# Add a dropout layer with a rate of 0.3 to reduce overfitting during training\n",
    "model0.add(tf.keras.layers.Dropout(0.3))\n",
    "\n",
    "# Add the hidden layer with 32 units and ReLU activation function\n",
    "model0.add(tf.keras.layers.Dense(32, activation='relu'))\n",
    "\n",
    "# Add a dropout layer with a rate of 0.3 to reduce overfitting during training\n",
    "model0.add(tf.keras.layers.Dropout(0.3))\n",
    "\n",
    "# Output layer: Using softmax activation for multi-class classification.\n",
    "model0.add(tf.keras.layers.Dense(10, activation='softmax'))\n",
    "\n",
    "# Compile the model\n",
    "model0.compile(optimizer='sgd', loss='sparse_categorical_crossentropy', metrics=['accuracy'])\n",
    "\n",
    "# Summary\n",
    "model0.summary()"
   ]
  },
  {
   "cell_type": "code",
   "execution_count": null,
   "metadata": {
    "execution": {
     "iopub.execute_input": "2024-11-24T12:48:38.199263Z",
     "iopub.status.busy": "2024-11-24T12:48:38.198780Z",
     "iopub.status.idle": "2024-11-24T12:48:38.224349Z",
     "shell.execute_reply": "2024-11-24T12:48:38.223548Z",
     "shell.execute_reply.started": "2024-11-24T12:48:38.199226Z"
    },
    "trusted": true
   },
   "outputs": [
    {
     "data": {
      "text/html": [
       "<pre style=\"white-space:pre;overflow-x:auto;line-height:normal;font-family:Menlo,'DejaVu Sans Mono',consolas,'Courier New',monospace\"><span style=\"font-weight: bold\">Model: \"sequential\"</span>\n",
       "</pre>\n"
      ],
      "text/plain": [
       "\u001b[1mModel: \"sequential\"\u001b[0m\n"
      ]
     },
     "metadata": {},
     "output_type": "display_data"
    },
    {
     "data": {
      "text/html": [
       "<pre style=\"white-space:pre;overflow-x:auto;line-height:normal;font-family:Menlo,'DejaVu Sans Mono',consolas,'Courier New',monospace\">┏━━━━━━━━━━━━━━━━━━━━━━━━━━━━━━━━━┳━━━━━━━━━━━━━━━━━━━━━━━━┳━━━━━━━━━━━━━━━┓\n",
       "┃<span style=\"font-weight: bold\"> Layer (type)                    </span>┃<span style=\"font-weight: bold\"> Output Shape           </span>┃<span style=\"font-weight: bold\">       Param # </span>┃\n",
       "┡━━━━━━━━━━━━━━━━━━━━━━━━━━━━━━━━━╇━━━━━━━━━━━━━━━━━━━━━━━━╇━━━━━━━━━━━━━━━┩\n",
       "│ dense (<span style=\"color: #0087ff; text-decoration-color: #0087ff\">Dense</span>)                   │ (<span style=\"color: #00d7ff; text-decoration-color: #00d7ff\">None</span>, <span style=\"color: #00af00; text-decoration-color: #00af00\">128</span>)            │       <span style=\"color: #00af00; text-decoration-color: #00af00\">100,480</span> │\n",
       "├─────────────────────────────────┼────────────────────────┼───────────────┤\n",
       "│ dropout (<span style=\"color: #0087ff; text-decoration-color: #0087ff\">Dropout</span>)               │ (<span style=\"color: #00d7ff; text-decoration-color: #00d7ff\">None</span>, <span style=\"color: #00af00; text-decoration-color: #00af00\">128</span>)            │             <span style=\"color: #00af00; text-decoration-color: #00af00\">0</span> │\n",
       "├─────────────────────────────────┼────────────────────────┼───────────────┤\n",
       "│ dense_1 (<span style=\"color: #0087ff; text-decoration-color: #0087ff\">Dense</span>)                 │ (<span style=\"color: #00d7ff; text-decoration-color: #00d7ff\">None</span>, <span style=\"color: #00af00; text-decoration-color: #00af00\">47</span>)             │         <span style=\"color: #00af00; text-decoration-color: #00af00\">6,063</span> │\n",
       "└─────────────────────────────────┴────────────────────────┴───────────────┘\n",
       "</pre>\n"
      ],
      "text/plain": [
       "┏━━━━━━━━━━━━━━━━━━━━━━━━━━━━━━━━━┳━━━━━━━━━━━━━━━━━━━━━━━━┳━━━━━━━━━━━━━━━┓\n",
       "┃\u001b[1m \u001b[0m\u001b[1mLayer (type)                   \u001b[0m\u001b[1m \u001b[0m┃\u001b[1m \u001b[0m\u001b[1mOutput Shape          \u001b[0m\u001b[1m \u001b[0m┃\u001b[1m \u001b[0m\u001b[1m      Param #\u001b[0m\u001b[1m \u001b[0m┃\n",
       "┡━━━━━━━━━━━━━━━━━━━━━━━━━━━━━━━━━╇━━━━━━━━━━━━━━━━━━━━━━━━╇━━━━━━━━━━━━━━━┩\n",
       "│ dense (\u001b[38;5;33mDense\u001b[0m)                   │ (\u001b[38;5;45mNone\u001b[0m, \u001b[38;5;34m128\u001b[0m)            │       \u001b[38;5;34m100,480\u001b[0m │\n",
       "├─────────────────────────────────┼────────────────────────┼───────────────┤\n",
       "│ dropout (\u001b[38;5;33mDropout\u001b[0m)               │ (\u001b[38;5;45mNone\u001b[0m, \u001b[38;5;34m128\u001b[0m)            │             \u001b[38;5;34m0\u001b[0m │\n",
       "├─────────────────────────────────┼────────────────────────┼───────────────┤\n",
       "│ dense_1 (\u001b[38;5;33mDense\u001b[0m)                 │ (\u001b[38;5;45mNone\u001b[0m, \u001b[38;5;34m47\u001b[0m)             │         \u001b[38;5;34m6,063\u001b[0m │\n",
       "└─────────────────────────────────┴────────────────────────┴───────────────┘\n"
      ]
     },
     "metadata": {},
     "output_type": "display_data"
    },
    {
     "data": {
      "text/html": [
       "<pre style=\"white-space:pre;overflow-x:auto;line-height:normal;font-family:Menlo,'DejaVu Sans Mono',consolas,'Courier New',monospace\"><span style=\"font-weight: bold\"> Total params: </span><span style=\"color: #00af00; text-decoration-color: #00af00\">106,543</span> (416.18 KB)\n",
       "</pre>\n"
      ],
      "text/plain": [
       "\u001b[1m Total params: \u001b[0m\u001b[38;5;34m106,543\u001b[0m (416.18 KB)\n"
      ]
     },
     "metadata": {},
     "output_type": "display_data"
    },
    {
     "data": {
      "text/html": [
       "<pre style=\"white-space:pre;overflow-x:auto;line-height:normal;font-family:Menlo,'DejaVu Sans Mono',consolas,'Courier New',monospace\"><span style=\"font-weight: bold\"> Trainable params: </span><span style=\"color: #00af00; text-decoration-color: #00af00\">106,543</span> (416.18 KB)\n",
       "</pre>\n"
      ],
      "text/plain": [
       "\u001b[1m Trainable params: \u001b[0m\u001b[38;5;34m106,543\u001b[0m (416.18 KB)\n"
      ]
     },
     "metadata": {},
     "output_type": "display_data"
    },
    {
     "data": {
      "text/html": [
       "<pre style=\"white-space:pre;overflow-x:auto;line-height:normal;font-family:Menlo,'DejaVu Sans Mono',consolas,'Courier New',monospace\"><span style=\"font-weight: bold\"> Non-trainable params: </span><span style=\"color: #00af00; text-decoration-color: #00af00\">0</span> (0.00 B)\n",
       "</pre>\n"
      ],
      "text/plain": [
       "\u001b[1m Non-trainable params: \u001b[0m\u001b[38;5;34m0\u001b[0m (0.00 B)\n"
      ]
     },
     "metadata": {},
     "output_type": "display_data"
    }
   ],
   "source": [
    "from tensorflow.keras.callbacks import EarlyStopping, ReduceLROnPlateau, ModelCheckpoint\n",
    "\n",
    "import os\n",
    "\n",
    "if os.path.exists(\"Best_points.keras\"):\n",
    "    os.remove(\"Best_points.keras\")\n",
    "\n",
    "MCP = ModelCheckpoint('Best_points.keras', verbose=1, save_best_only=True, monitor='val_accuracy', mode='max')"
   ]
  },
  {
   "cell_type": "code",
   "execution_count": null,
   "metadata": {
    "execution": {
     "iopub.execute_input": "2024-11-24T12:48:38.232239Z",
     "iopub.status.busy": "2024-11-24T12:48:38.232019Z",
     "iopub.status.idle": "2024-11-24T12:49:28.481661Z",
     "shell.execute_reply": "2024-11-24T12:49:28.480796Z",
     "shell.execute_reply.started": "2024-11-24T12:48:38.232221Z"
    },
    "trusted": true
   },
   "outputs": [
    {
     "name": "stdout",
     "output_type": "stream",
     "text": [
      "Epoch 1/16\n",
      "\u001b[1m 108/1763\u001b[0m \u001b[32m━\u001b[0m\u001b[37m━━━━━━━━━━━━━━━━━━━\u001b[0m \u001b[1m2s\u001b[0m 1ms/step - accuracy: 0.0284 - loss: 3.8561"
     ]
    },
    {
     "name": "stderr",
     "output_type": "stream",
     "text": [
      "WARNING: All log messages before absl::InitializeLog() is called are written to STDERR\n",
      "I0000 00:00:1732452521.706106     105 device_compiler.h:186] Compiled cluster using XLA!  This line is logged at most once for the lifetime of the process.\n",
      "W0000 00:00:1732452521.717179     105 graph_launch.cc:671] Fallback to op-by-op mode because memset node breaks graph update\n"
     ]
    },
    {
     "name": "stdout",
     "output_type": "stream",
     "text": [
      "\u001b[1m1763/1763\u001b[0m \u001b[32m━━━━━━━━━━━━━━━━━━━━\u001b[0m\u001b[37m\u001b[0m \u001b[1m0s\u001b[0m 2ms/step - accuracy: 0.1881 - loss: 3.2655"
     ]
    },
    {
     "name": "stderr",
     "output_type": "stream",
     "text": [
      "W0000 00:00:1732452525.450805     108 graph_launch.cc:671] Fallback to op-by-op mode because memset node breaks graph update\n",
      "W0000 00:00:1732452525.948633     108 graph_launch.cc:671] Fallback to op-by-op mode because memset node breaks graph update\n"
     ]
    },
    {
     "name": "stdout",
     "output_type": "stream",
     "text": [
      "\n",
      "Epoch 1: val_accuracy improved from -inf to 0.55907, saving model to Best_points.keras\n",
      "\u001b[1m1763/1763\u001b[0m \u001b[32m━━━━━━━━━━━━━━━━━━━━\u001b[0m\u001b[37m\u001b[0m \u001b[1m7s\u001b[0m 3ms/step - accuracy: 0.1882 - loss: 3.2652 - val_accuracy: 0.5591 - val_loss: 1.8094\n",
      "Epoch 2/16\n",
      "\u001b[1m  76/1763\u001b[0m \u001b[37m━━━━━━━━━━━━━━━━━━━━\u001b[0m \u001b[1m2s\u001b[0m 1ms/step - accuracy: 0.4657 - loss: 1.9949"
     ]
    },
    {
     "name": "stderr",
     "output_type": "stream",
     "text": [
      "W0000 00:00:1732452526.631919     107 graph_launch.cc:671] Fallback to op-by-op mode because memset node breaks graph update\n"
     ]
    },
    {
     "name": "stdout",
     "output_type": "stream",
     "text": [
      "\u001b[1m1751/1763\u001b[0m \u001b[32m━━━━━━━━━━━━━━━━━━━\u001b[0m\u001b[37m━\u001b[0m \u001b[1m0s\u001b[0m 1ms/step - accuracy: 0.4923 - loss: 1.8830\n",
      "Epoch 2: val_accuracy improved from 0.55907 to 0.61562, saving model to Best_points.keras\n",
      "\u001b[1m1763/1763\u001b[0m \u001b[32m━━━━━━━━━━━━━━━━━━━━\u001b[0m\u001b[37m\u001b[0m \u001b[1m3s\u001b[0m 2ms/step - accuracy: 0.4925 - loss: 1.8823 - val_accuracy: 0.6156 - val_loss: 1.4476\n",
      "Epoch 3/16\n",
      "\u001b[1m1759/1763\u001b[0m \u001b[32m━━━━━━━━━━━━━━━━━━━\u001b[0m\u001b[37m━\u001b[0m \u001b[1m0s\u001b[0m 1ms/step - accuracy: 0.5577 - loss: 1.5844\n",
      "Epoch 3: val_accuracy improved from 0.61562 to 0.64057, saving model to Best_points.keras\n",
      "\u001b[1m1763/1763\u001b[0m \u001b[32m━━━━━━━━━━━━━━━━━━━━\u001b[0m\u001b[37m\u001b[0m \u001b[1m3s\u001b[0m 2ms/step - accuracy: 0.5578 - loss: 1.5843 - val_accuracy: 0.6406 - val_loss: 1.3029\n",
      "Epoch 4/16\n",
      "\u001b[1m1758/1763\u001b[0m \u001b[32m━━━━━━━━━━━━━━━━━━━\u001b[0m\u001b[37m━\u001b[0m \u001b[1m0s\u001b[0m 1ms/step - accuracy: 0.5918 - loss: 1.4444\n",
      "Epoch 4: val_accuracy improved from 0.64057 to 0.66110, saving model to Best_points.keras\n",
      "\u001b[1m1763/1763\u001b[0m \u001b[32m━━━━━━━━━━━━━━━━━━━━\u001b[0m\u001b[37m\u001b[0m \u001b[1m3s\u001b[0m 2ms/step - accuracy: 0.5918 - loss: 1.4443 - val_accuracy: 0.6611 - val_loss: 1.2166\n",
      "Epoch 5/16\n",
      "\u001b[1m1763/1763\u001b[0m \u001b[32m━━━━━━━━━━━━━━━━━━━━\u001b[0m\u001b[37m\u001b[0m \u001b[1m0s\u001b[0m 1ms/step - accuracy: 0.6162 - loss: 1.3555\n",
      "Epoch 5: val_accuracy improved from 0.66110 to 0.67637, saving model to Best_points.keras\n",
      "\u001b[1m1763/1763\u001b[0m \u001b[32m━━━━━━━━━━━━━━━━━━━━\u001b[0m\u001b[37m\u001b[0m \u001b[1m3s\u001b[0m 2ms/step - accuracy: 0.6162 - loss: 1.3555 - val_accuracy: 0.6764 - val_loss: 1.1534\n",
      "Epoch 6/16\n",
      "\u001b[1m1747/1763\u001b[0m \u001b[32m━━━━━━━━━━━━━━━━━━━\u001b[0m\u001b[37m━\u001b[0m \u001b[1m0s\u001b[0m 1ms/step - accuracy: 0.6325 - loss: 1.2936\n",
      "Epoch 6: val_accuracy improved from 0.67637 to 0.68950, saving model to Best_points.keras\n",
      "\u001b[1m1763/1763\u001b[0m \u001b[32m━━━━━━━━━━━━━━━━━━━━\u001b[0m\u001b[37m\u001b[0m \u001b[1m3s\u001b[0m 2ms/step - accuracy: 0.6326 - loss: 1.2935 - val_accuracy: 0.6895 - val_loss: 1.1004\n",
      "Epoch 7/16\n",
      "\u001b[1m1742/1763\u001b[0m \u001b[32m━━━━━━━━━━━━━━━━━━━\u001b[0m\u001b[37m━\u001b[0m \u001b[1m0s\u001b[0m 1ms/step - accuracy: 0.6507 - loss: 1.2317\n",
      "Epoch 7: val_accuracy improved from 0.68950 to 0.70110, saving model to Best_points.keras\n",
      "\u001b[1m1763/1763\u001b[0m \u001b[32m━━━━━━━━━━━━━━━━━━━━\u001b[0m\u001b[37m\u001b[0m \u001b[1m3s\u001b[0m 2ms/step - accuracy: 0.6507 - loss: 1.2315 - val_accuracy: 0.7011 - val_loss: 1.0574\n",
      "Epoch 8/16\n",
      "\u001b[1m1739/1763\u001b[0m \u001b[32m━━━━━━━━━━━━━━━━━━━\u001b[0m\u001b[37m━\u001b[0m \u001b[1m0s\u001b[0m 1ms/step - accuracy: 0.6596 - loss: 1.1931\n",
      "Epoch 8: val_accuracy improved from 0.70110 to 0.70924, saving model to Best_points.keras\n",
      "\u001b[1m1763/1763\u001b[0m \u001b[32m━━━━━━━━━━━━━━━━━━━━\u001b[0m\u001b[37m\u001b[0m \u001b[1m3s\u001b[0m 2ms/step - accuracy: 0.6596 - loss: 1.1929 - val_accuracy: 0.7092 - val_loss: 1.0206\n",
      "Epoch 9/16\n",
      "\u001b[1m1756/1763\u001b[0m \u001b[32m━━━━━━━━━━━━━━━━━━━\u001b[0m\u001b[37m━\u001b[0m \u001b[1m0s\u001b[0m 1ms/step - accuracy: 0.6689 - loss: 1.1511\n",
      "Epoch 9: val_accuracy improved from 0.70924 to 0.71695, saving model to Best_points.keras\n",
      "\u001b[1m1763/1763\u001b[0m \u001b[32m━━━━━━━━━━━━━━━━━━━━\u001b[0m\u001b[37m\u001b[0m \u001b[1m3s\u001b[0m 2ms/step - accuracy: 0.6689 - loss: 1.1510 - val_accuracy: 0.7170 - val_loss: 0.9871\n",
      "Epoch 10/16\n",
      "\u001b[1m1762/1763\u001b[0m \u001b[32m━━━━━━━━━━━━━━━━━━━\u001b[0m\u001b[37m━\u001b[0m \u001b[1m0s\u001b[0m 1ms/step - accuracy: 0.6786 - loss: 1.1142\n",
      "Epoch 10: val_accuracy improved from 0.71695 to 0.72525, saving model to Best_points.keras\n",
      "\u001b[1m1763/1763\u001b[0m \u001b[32m━━━━━━━━━━━━━━━━━━━━\u001b[0m\u001b[37m\u001b[0m \u001b[1m3s\u001b[0m 2ms/step - accuracy: 0.6786 - loss: 1.1142 - val_accuracy: 0.7253 - val_loss: 0.9594\n",
      "Epoch 11/16\n",
      "\u001b[1m1749/1763\u001b[0m \u001b[32m━━━━━━━━━━━━━━━━━━━\u001b[0m\u001b[37m━\u001b[0m \u001b[1m0s\u001b[0m 1ms/step - accuracy: 0.6863 - loss: 1.0864\n",
      "Epoch 11: val_accuracy improved from 0.72525 to 0.72812, saving model to Best_points.keras\n",
      "\u001b[1m1763/1763\u001b[0m \u001b[32m━━━━━━━━━━━━━━━━━━━━\u001b[0m\u001b[37m\u001b[0m \u001b[1m3s\u001b[0m 2ms/step - accuracy: 0.6863 - loss: 1.0863 - val_accuracy: 0.7281 - val_loss: 0.9350\n",
      "Epoch 12/16\n",
      "\u001b[1m1740/1763\u001b[0m \u001b[32m━━━━━━━━━━━━━━━━━━━\u001b[0m\u001b[37m━\u001b[0m \u001b[1m0s\u001b[0m 1ms/step - accuracy: 0.6944 - loss: 1.0545\n",
      "Epoch 12: val_accuracy improved from 0.72812 to 0.73546, saving model to Best_points.keras\n",
      "\u001b[1m1763/1763\u001b[0m \u001b[32m━━━━━━━━━━━━━━━━━━━━\u001b[0m\u001b[37m\u001b[0m \u001b[1m3s\u001b[0m 2ms/step - accuracy: 0.6944 - loss: 1.0546 - val_accuracy: 0.7355 - val_loss: 0.9107\n",
      "Epoch 13/16\n",
      "\u001b[1m1748/1763\u001b[0m \u001b[32m━━━━━━━━━━━━━━━━━━━\u001b[0m\u001b[37m━\u001b[0m \u001b[1m0s\u001b[0m 1ms/step - accuracy: 0.6982 - loss: 1.0396\n",
      "Epoch 13: val_accuracy improved from 0.73546 to 0.74254, saving model to Best_points.keras\n",
      "\u001b[1m1763/1763\u001b[0m \u001b[32m━━━━━━━━━━━━━━━━━━━━\u001b[0m\u001b[37m\u001b[0m \u001b[1m3s\u001b[0m 2ms/step - accuracy: 0.6982 - loss: 1.0396 - val_accuracy: 0.7425 - val_loss: 0.8904\n",
      "Epoch 14/16\n",
      "\u001b[1m1751/1763\u001b[0m \u001b[32m━━━━━━━━━━━━━━━━━━━\u001b[0m\u001b[37m━\u001b[0m \u001b[1m0s\u001b[0m 1ms/step - accuracy: 0.7036 - loss: 1.0212\n",
      "Epoch 14: val_accuracy improved from 0.74254 to 0.74531, saving model to Best_points.keras\n",
      "\u001b[1m1763/1763\u001b[0m \u001b[32m━━━━━━━━━━━━━━━━━━━━\u001b[0m\u001b[37m\u001b[0m \u001b[1m3s\u001b[0m 2ms/step - accuracy: 0.7036 - loss: 1.0212 - val_accuracy: 0.7453 - val_loss: 0.8711\n",
      "Epoch 15/16\n",
      "\u001b[1m1737/1763\u001b[0m \u001b[32m━━━━━━━━━━━━━━━━━━━\u001b[0m\u001b[37m━\u001b[0m \u001b[1m0s\u001b[0m 1ms/step - accuracy: 0.7107 - loss: 0.9915\n",
      "Epoch 15: val_accuracy improved from 0.74531 to 0.75089, saving model to Best_points.keras\n",
      "\u001b[1m1763/1763\u001b[0m \u001b[32m━━━━━━━━━━━━━━━━━━━━\u001b[0m\u001b[37m\u001b[0m \u001b[1m3s\u001b[0m 2ms/step - accuracy: 0.7107 - loss: 0.9915 - val_accuracy: 0.7509 - val_loss: 0.8537\n",
      "Epoch 16/16\n",
      "\u001b[1m1761/1763\u001b[0m \u001b[32m━━━━━━━━━━━━━━━━━━━\u001b[0m\u001b[37m━\u001b[0m \u001b[1m0s\u001b[0m 1ms/step - accuracy: 0.7133 - loss: 0.9821\n",
      "Epoch 16: val_accuracy improved from 0.75089 to 0.75467, saving model to Best_points.keras\n",
      "\u001b[1m1763/1763\u001b[0m \u001b[32m━━━━━━━━━━━━━━━━━━━━\u001b[0m\u001b[37m\u001b[0m \u001b[1m3s\u001b[0m 2ms/step - accuracy: 0.7133 - loss: 0.9821 - val_accuracy: 0.7547 - val_loss: 0.8386\n",
      "training_time0 = 0 min 50 sec\n"
     ]
    }
   ],
   "source": [
    "batch_size  = 32\n",
    "epochs      = 330\n",
    "\n",
    "start_time0 = time.time()\n",
    "history0 = model0.fit(  X_train, y_train,\n",
    "                      batch_size      = batch_size,\n",
    "                      epochs          = epochs,\n",
    "                      \n",
    "                      validation_data = (X_test, y_test),callbacks=MCP)\n",
    "stop_time0 = time.time()\n",
    "\n",
    "# Calculate elapsed time\n",
    "elapsed_time0 = stop_time0 - start_time0\n",
    "minutes0 = int(elapsed_time0 // 60)\n",
    "seconds0 = int(elapsed_time0 % 60)\n",
    "\n",
    "# Print time used in minutes and seconds\n",
    "print(f'training_time0 = {minutes0} min {seconds0} sec')"
   ]
  },
  {
   "cell_type": "code",
   "execution_count": null,
   "metadata": {
    "execution": {
     "iopub.execute_input": "2024-11-24T12:49:28.482893Z",
     "iopub.status.busy": "2024-11-24T12:49:28.482627Z",
     "iopub.status.idle": "2024-11-24T12:49:29.936444Z",
     "shell.execute_reply": "2024-11-24T12:49:29.935556Z",
     "shell.execute_reply.started": "2024-11-24T12:49:28.482871Z"
    },
    "trusted": true
   },
   "outputs": [
    {
     "name": "stderr",
     "output_type": "stream",
     "text": [
      "W0000 00:00:1732452568.920396     106 graph_launch.cc:671] Fallback to op-by-op mode because memset node breaks graph update\n"
     ]
    },
    {
     "name": "stdout",
     "output_type": "stream",
     "text": [
      "Test loss     : 0.8386\n",
      "Test accuracy : 0.7547\n"
     ]
    }
   ],
   "source": [
    "from tensorflow.keras.models import load_model\n",
    "\n",
    "# Load the best saved model\n",
    "best_model = load_model('Best_points.keras')\n",
    "\n",
    "# Evaluate the model on the test dataset\n",
    "score = best_model.evaluate(X_test, y_test, verbose=0)\n",
    "\n",
    "# Print the evaluation results\n",
    "print(f'Test loss     : {score[0]:4.4f}')\n",
    "print(f'Test accuracy : {score[1]:4.4f}')"
   ]
  },
  {
   "cell_type": "code",
   "execution_count": 18,
   "metadata": {
    "execution": {
     "iopub.execute_input": "2024-11-24T12:49:29.938509Z",
     "iopub.status.busy": "2024-11-24T12:49:29.937792Z",
     "iopub.status.idle": "2024-11-24T12:49:30.223954Z",
     "shell.execute_reply": "2024-11-24T12:49:30.223090Z",
     "shell.execute_reply.started": "2024-11-24T12:49:29.938475Z"
    },
    "trusted": true
   },
   "outputs": [
    {
     "data": {
      "text/plain": [
       "<matplotlib.legend.Legend at 0x798fdbddb190>"
      ]
     },
     "execution_count": 18,
     "metadata": {},
     "output_type": "execute_result"
    },
    {
     "data": {
      "image/png": "[encoded data removed]",
      "text/plain": [
       "<Figure size 640x480 with 1 Axes>"
      ]
     },
     "metadata": {},
     "output_type": "display_data"
    }
   ],
   "source": [
    "plt.plot(history0.history['loss'], label='train')\n",
    "plt.plot(history0.history['val_loss'], label='test')\n",
    "plt.legend()"
   ]
  },
  {
   "cell_type": "code",
   "execution_count": 19,
   "metadata": {
    "execution": {
     "iopub.execute_input": "2024-11-24T12:49:30.226072Z",
     "iopub.status.busy": "2024-11-24T12:49:30.225186Z",
     "iopub.status.idle": "2024-11-24T12:49:30.393530Z",
     "shell.execute_reply": "2024-11-24T12:49:30.392751Z",
     "shell.execute_reply.started": "2024-11-24T12:49:30.226040Z"
    },
    "trusted": true
   },
   "outputs": [
    {
     "data": {
      "text/plain": [
       "<matplotlib.legend.Legend at 0x798fddc0f340>"
      ]
     },
     "execution_count": 19,
     "metadata": {},
     "output_type": "execute_result"
    },
    {
     "data": {
      "image/png": "[encoded data removed]",
      "text/plain": [
       "<Figure size 640x480 with 1 Axes>"
      ]
     },
     "metadata": {},
     "output_type": "display_data"
    }
   ],
   "source": [
    "plt.plot(history0.history['accuracy'], label='train')\n",
    "plt.plot(history0.history['val_accuracy'], label='test')\n",
    "plt.legend()"
   ]
  },
  {
   "cell_type": "code",
   "execution_count": null,
   "metadata": {},
   "outputs": [],
   "source": []
  }
 ],
 "metadata": {
  "kaggle": {
   "accelerator": "nvidiaTeslaT4",
   "dataSources": [
    {
     "datasetId": 7160,
     "sourceId": 10705,
     "sourceType": "datasetVersion"
    }
   ],
   "dockerImageVersionId": 30699,
   "isGpuEnabled": true,
   "isInternetEnabled": true,
   "language": "python",
   "sourceType": "notebook"
  },
  "kernelspec": {
   "display_name": "Python 3",
   "language": "python",
   "name": "python3"
  },
  "language_info": {
   "codemirror_mode": {
    "name": "ipython",
    "version": 3
   },
   "file_extension": ".py",
   "mimetype": "text/x-python",
   "name": "python",
   "nbconvert_exporter": "python",
   "pygments_lexer": "ipython3",
   "version": "3.10.13"
  }
 },
 "nbformat": 4,
 "nbformat_minor": 4
}
